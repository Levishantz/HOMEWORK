{
 "cells": [
  {
   "cell_type": "code",
   "execution_count": 10,
   "metadata": {},
   "outputs": [],
   "source": [
    "# Dependencies and Setup\n",
    "import pandas as pd\n",
    "import numpy as np"
   ]
  },
  {
   "cell_type": "code",
   "execution_count": 11,
   "metadata": {
    "scrolled": false
   },
   "outputs": [
    {
     "data": {
      "text/html": [
       "<div>\n",
       "<style scoped>\n",
       "    .dataframe tbody tr th:only-of-type {\n",
       "        vertical-align: middle;\n",
       "    }\n",
       "\n",
       "    .dataframe tbody tr th {\n",
       "        vertical-align: top;\n",
       "    }\n",
       "\n",
       "    .dataframe thead th {\n",
       "        text-align: right;\n",
       "    }\n",
       "</style>\n",
       "<table border=\"1\" class=\"dataframe\">\n",
       "  <thead>\n",
       "    <tr style=\"text-align: right;\">\n",
       "      <th></th>\n",
       "      <th>Purchase ID</th>\n",
       "      <th>SN</th>\n",
       "      <th>Age</th>\n",
       "      <th>Gender</th>\n",
       "      <th>Item ID</th>\n",
       "      <th>Item Name</th>\n",
       "      <th>Price</th>\n",
       "    </tr>\n",
       "  </thead>\n",
       "  <tbody>\n",
       "    <tr>\n",
       "      <th>0</th>\n",
       "      <td>0</td>\n",
       "      <td>Lisim78</td>\n",
       "      <td>20</td>\n",
       "      <td>Male</td>\n",
       "      <td>108</td>\n",
       "      <td>Extraction, Quickblade Of Trembling Hands</td>\n",
       "      <td>3.53</td>\n",
       "    </tr>\n",
       "    <tr>\n",
       "      <th>1</th>\n",
       "      <td>1</td>\n",
       "      <td>Lisovynya38</td>\n",
       "      <td>40</td>\n",
       "      <td>Male</td>\n",
       "      <td>143</td>\n",
       "      <td>Frenzied Scimitar</td>\n",
       "      <td>1.56</td>\n",
       "    </tr>\n",
       "    <tr>\n",
       "      <th>2</th>\n",
       "      <td>2</td>\n",
       "      <td>Ithergue48</td>\n",
       "      <td>24</td>\n",
       "      <td>Male</td>\n",
       "      <td>92</td>\n",
       "      <td>Final Critic</td>\n",
       "      <td>4.88</td>\n",
       "    </tr>\n",
       "    <tr>\n",
       "      <th>3</th>\n",
       "      <td>3</td>\n",
       "      <td>Chamassasya86</td>\n",
       "      <td>24</td>\n",
       "      <td>Male</td>\n",
       "      <td>100</td>\n",
       "      <td>Blindscythe</td>\n",
       "      <td>3.27</td>\n",
       "    </tr>\n",
       "    <tr>\n",
       "      <th>4</th>\n",
       "      <td>4</td>\n",
       "      <td>Iskosia90</td>\n",
       "      <td>23</td>\n",
       "      <td>Male</td>\n",
       "      <td>131</td>\n",
       "      <td>Fury</td>\n",
       "      <td>1.44</td>\n",
       "    </tr>\n",
       "  </tbody>\n",
       "</table>\n",
       "</div>"
      ],
      "text/plain": [
       "   Purchase ID             SN  Age Gender  Item ID  \\\n",
       "0            0        Lisim78   20   Male      108   \n",
       "1            1    Lisovynya38   40   Male      143   \n",
       "2            2     Ithergue48   24   Male       92   \n",
       "3            3  Chamassasya86   24   Male      100   \n",
       "4            4      Iskosia90   23   Male      131   \n",
       "\n",
       "                                   Item Name  Price  \n",
       "0  Extraction, Quickblade Of Trembling Hands   3.53  \n",
       "1                          Frenzied Scimitar   1.56  \n",
       "2                               Final Critic   4.88  \n",
       "3                                Blindscythe   3.27  \n",
       "4                                       Fury   1.44  "
      ]
     },
     "execution_count": 11,
     "metadata": {},
     "output_type": "execute_result"
    }
   ],
   "source": [
    "# File to Load (Remember to Change These)\n",
    "file_to_load = \"Resources/purchase_data.csv\"\n",
    "\n",
    "# Read Purchasing File and store into Pandas data frame\n",
    "purchase_data = pd.read_csv(file_to_load)\n",
    "purchase_data.head()"
   ]
  },
  {
   "cell_type": "code",
   "execution_count": 12,
   "metadata": {},
   "outputs": [
    {
     "data": {
      "text/plain": [
       "183"
      ]
     },
     "execution_count": 12,
     "metadata": {},
     "output_type": "execute_result"
    }
   ],
   "source": [
    "Unique_items = purchase_data['Item ID'].unique()\n",
    "Total_Unique_items = len(Unique_items)\n",
    "Total_Unique_items"
   ]
  },
  {
   "cell_type": "code",
   "execution_count": 13,
   "metadata": {},
   "outputs": [
    {
     "data": {
      "text/plain": [
       "3.050987179487176"
      ]
     },
     "execution_count": 13,
     "metadata": {},
     "output_type": "execute_result"
    }
   ],
   "source": [
    "mean_of_price = purchase_data['Price'].mean()\n",
    "mean_of_price"
   ]
  },
  {
   "cell_type": "code",
   "execution_count": 14,
   "metadata": {},
   "outputs": [
    {
     "data": {
      "text/plain": [
       "2379.77"
      ]
     },
     "execution_count": 14,
     "metadata": {},
     "output_type": "execute_result"
    }
   ],
   "source": [
    "sum_of_revenue = purchase_data['Price'].sum()\n",
    "sum_of_revenue"
   ]
  },
  {
   "cell_type": "code",
   "execution_count": 15,
   "metadata": {},
   "outputs": [
    {
     "data": {
      "text/plain": [
       "183"
      ]
     },
     "execution_count": 15,
     "metadata": {},
     "output_type": "execute_result"
    }
   ],
   "source": [
    "unique_items = purchase_data['Item ID'].unique()\n",
    "total_unique_items =  len(unique_items)\n",
    "total_unique_items"
   ]
  },
  {
   "cell_type": "code",
   "execution_count": 16,
   "metadata": {},
   "outputs": [
    {
     "data": {
      "text/plain": [
       "780"
      ]
     },
     "execution_count": 16,
     "metadata": {},
     "output_type": "execute_result"
    }
   ],
   "source": [
    "total_purchase = purchase_data['Purchase ID'].count()\n",
    "total_purchase\n",
    "\n"
   ]
  },
  {
   "cell_type": "code",
   "execution_count": 17,
   "metadata": {},
   "outputs": [
    {
     "data": {
      "text/html": [
       "<div>\n",
       "<style scoped>\n",
       "    .dataframe tbody tr th:only-of-type {\n",
       "        vertical-align: middle;\n",
       "    }\n",
       "\n",
       "    .dataframe tbody tr th {\n",
       "        vertical-align: top;\n",
       "    }\n",
       "\n",
       "    .dataframe thead th {\n",
       "        text-align: right;\n",
       "    }\n",
       "</style>\n",
       "<table border=\"1\" class=\"dataframe\">\n",
       "  <thead>\n",
       "    <tr style=\"text-align: right;\">\n",
       "      <th></th>\n",
       "      <th>Number of Unique Items</th>\n",
       "      <th>Average Price</th>\n",
       "      <th>Number of Purchases</th>\n",
       "      <th>Total Revenue</th>\n",
       "    </tr>\n",
       "  </thead>\n",
       "  <tbody>\n",
       "    <tr>\n",
       "      <th>0</th>\n",
       "      <td>183</td>\n",
       "      <td>3.050987</td>\n",
       "      <td>780</td>\n",
       "      <td>2379.77</td>\n",
       "    </tr>\n",
       "  </tbody>\n",
       "</table>\n",
       "</div>"
      ],
      "text/plain": [
       "   Number of Unique Items  Average Price  Number of Purchases  Total Revenue\n",
       "0                     183       3.050987                  780        2379.77"
      ]
     },
     "execution_count": 17,
     "metadata": {},
     "output_type": "execute_result"
    }
   ],
   "source": [
    "summary_table = pd.DataFrame({'Number of Unique Items': [Total_Unique_items],\n",
    "                             'Average Price': mean_of_price,\n",
    "                             'Number of Purchases': total_purchase,\n",
    "                             'Total Revenue': sum_of_revenue})\n",
    "summary_table"
   ]
  },
  {
   "cell_type": "code",
   "execution_count": 18,
   "metadata": {},
   "outputs": [
    {
     "data": {
      "text/html": [
       "<div>\n",
       "<style scoped>\n",
       "    .dataframe tbody tr th:only-of-type {\n",
       "        vertical-align: middle;\n",
       "    }\n",
       "\n",
       "    .dataframe tbody tr th {\n",
       "        vertical-align: top;\n",
       "    }\n",
       "\n",
       "    .dataframe thead th {\n",
       "        text-align: right;\n",
       "    }\n",
       "</style>\n",
       "<table border=\"1\" class=\"dataframe\">\n",
       "  <thead>\n",
       "    <tr style=\"text-align: right;\">\n",
       "      <th></th>\n",
       "      <th>SN</th>\n",
       "      <th>SN</th>\n",
       "    </tr>\n",
       "    <tr>\n",
       "      <th>Gender</th>\n",
       "      <th></th>\n",
       "      <th></th>\n",
       "    </tr>\n",
       "  </thead>\n",
       "  <tbody>\n",
       "    <tr>\n",
       "      <th>Female</th>\n",
       "      <td>81</td>\n",
       "      <td>14.06</td>\n",
       "    </tr>\n",
       "    <tr>\n",
       "      <th>Male</th>\n",
       "      <td>484</td>\n",
       "      <td>84.03</td>\n",
       "    </tr>\n",
       "    <tr>\n",
       "      <th>Other / Non-Disclosed</th>\n",
       "      <td>11</td>\n",
       "      <td>1.91</td>\n",
       "    </tr>\n",
       "  </tbody>\n",
       "</table>\n",
       "</div>"
      ],
      "text/plain": [
       "                        SN     SN\n",
       "Gender                           \n",
       "Female                  81  14.06\n",
       "Male                   484  84.03\n",
       "Other / Non-Disclosed   11   1.91"
      ]
     },
     "execution_count": 18,
     "metadata": {},
     "output_type": "execute_result"
    }
   ],
   "source": [
    "#not working \n",
    "cleaning_purchase_dups = purchase_data.drop_duplicates(['SN'])\n",
    "cleaning_purchase_dups\n",
    "\n",
    "purchase_data_by_gender2 = cleaning_purchase_dups.groupby('Gender').SN.count()\n",
    "purchase_data_by_gender2\n",
    "\n",
    "percent = purchase_data_by_gender2.sum()\n",
    "\n",
    "percent_column = round(purchase_data_by_gender2 / percent * 100,2)\n",
    "\n",
    "#make a dataframe with purchase_data_by_gender2 and percent_column\n",
    "\n",
    "pd.concat([purchase_data_by_gender2,percent_column], axis=1)\n",
    "\n",
    "\n"
   ]
  },
  {
   "cell_type": "code",
   "execution_count": null,
   "metadata": {},
   "outputs": [],
   "source": []
  },
  {
   "cell_type": "code",
   "execution_count": 19,
   "metadata": {},
   "outputs": [
    {
     "data": {
      "text/plain": [
       "Male                     652\n",
       "Female                   113\n",
       "Other / Non-Disclosed     15\n",
       "Name: Gender, dtype: int64"
      ]
     },
     "execution_count": 19,
     "metadata": {},
     "output_type": "execute_result"
    }
   ],
   "source": [
    "Count_of_gender =  purchase_data['Gender'].value_counts()\n",
    "\n",
    "Count_of_gender"
   ]
  },
  {
   "cell_type": "code",
   "execution_count": 53,
   "metadata": {},
   "outputs": [],
   "source": [
    "purchase_average = purchase_data.groupby('Gender')['Price'].mean().rename('Purchase Average')\n",
    "\n",
    "Total_purchase = purchase_data.groupby('Gender')['Price'].sum().rename('Total Purchase')\n",
    "\n",
    "Total_average_by_person = purchase_data.groupby(['SN', 'Gender']).sum()\n",
    "Total_average_by_person = Total_average_by_person.groupby('Gender').mean()"
   ]
  },
  {
   "cell_type": "code",
   "execution_count": 55,
   "metadata": {},
   "outputs": [
    {
     "name": "stderr",
     "output_type": "stream",
     "text": [
      "/anaconda3/lib/python3.7/site-packages/ipykernel_launcher.py:1: FutureWarning: Sorting because non-concatenation axis is not aligned. A future version\n",
      "of pandas will change to not sort by default.\n",
      "\n",
      "To accept the future behavior, pass 'sort=False'.\n",
      "\n",
      "To retain the current behavior and silence the warning, pass 'sort=True'.\n",
      "\n",
      "  \"\"\"Entry point for launching an IPython kernel.\n"
     ]
    },
    {
     "data": {
      "text/html": [
       "<div>\n",
       "<style scoped>\n",
       "    .dataframe tbody tr th:only-of-type {\n",
       "        vertical-align: middle;\n",
       "    }\n",
       "\n",
       "    .dataframe tbody tr th {\n",
       "        vertical-align: top;\n",
       "    }\n",
       "\n",
       "    .dataframe thead th {\n",
       "        text-align: right;\n",
       "    }\n",
       "</style>\n",
       "<table border=\"1\" class=\"dataframe\">\n",
       "  <thead>\n",
       "    <tr style=\"text-align: right;\">\n",
       "      <th></th>\n",
       "      <th>Gender</th>\n",
       "      <th>Purchase Average</th>\n",
       "      <th>Total Purchase</th>\n",
       "      <th>Price</th>\n",
       "    </tr>\n",
       "  </thead>\n",
       "  <tbody>\n",
       "    <tr>\n",
       "      <th>Female</th>\n",
       "      <td>113</td>\n",
       "      <td>3.203009</td>\n",
       "      <td>361.94</td>\n",
       "      <td>4.468395</td>\n",
       "    </tr>\n",
       "    <tr>\n",
       "      <th>Male</th>\n",
       "      <td>652</td>\n",
       "      <td>3.017853</td>\n",
       "      <td>1967.64</td>\n",
       "      <td>4.065372</td>\n",
       "    </tr>\n",
       "    <tr>\n",
       "      <th>Other / Non-Disclosed</th>\n",
       "      <td>15</td>\n",
       "      <td>3.346000</td>\n",
       "      <td>50.19</td>\n",
       "      <td>4.562727</td>\n",
       "    </tr>\n",
       "  </tbody>\n",
       "</table>\n",
       "</div>"
      ],
      "text/plain": [
       "                       Gender  Purchase Average  Total Purchase     Price\n",
       "Female                    113          3.203009          361.94  4.468395\n",
       "Male                      652          3.017853         1967.64  4.065372\n",
       "Other / Non-Disclosed      15          3.346000           50.19  4.562727"
      ]
     },
     "execution_count": 55,
     "metadata": {},
     "output_type": "execute_result"
    }
   ],
   "source": [
    "#need to change names, and add '$', and set the right .00 placing\n",
    "\n",
    "printing_df = pd.concat([Count_of_gender, purchase_average, Total_purchase, Total_average_by_person], axis=1)\n",
    "\n",
    "printing_df[['Gender', 'Purchase Average', 'Total Purchase', 'Price']]"
   ]
  },
  {
   "cell_type": "code",
   "execution_count": 13,
   "metadata": {},
   "outputs": [
    {
     "data": {
      "text/plain": [
       "Age\n",
       "(0.0, 10.0]      32\n",
       "(10.0, 14.0]     19\n",
       "(14.0, 15.0]     35\n",
       "(15.0, 19.0]    101\n",
       "(19.0, 20.0]     99\n",
       "(20.0, 24.0]    266\n",
       "(24.0, 25.0]     59\n",
       "(25.0, 29.0]     42\n",
       "(29.0, 30.0]     35\n",
       "(30.0, 34.0]     38\n",
       "(34.0, 35.0]     14\n",
       "(35.0, 39.0]     27\n",
       "(39.0, 40.0]      6\n",
       "Name: Age, dtype: int64"
      ]
     },
     "execution_count": 13,
     "metadata": {},
     "output_type": "execute_result"
    }
   ],
   "source": [
    "#not working\n",
    "\n",
    "mybin = [0, 10, 14, 15., 19, 20, 24, 25, 29, 30, 34, 35, 39, 40]\n",
    "\n",
    "\n",
    "binning = purchase_data.groupby(pd.cut(purchase_data.Age, mybin))\n",
    "binning.Age.count()"
   ]
  },
  {
   "cell_type": "code",
   "execution_count": null,
   "metadata": {},
   "outputs": [],
   "source": []
  },
  {
   "cell_type": "code",
   "execution_count": null,
   "metadata": {},
   "outputs": [],
   "source": []
  },
  {
   "cell_type": "code",
   "execution_count": null,
   "metadata": {},
   "outputs": [],
   "source": []
  },
  {
   "cell_type": "code",
   "execution_count": 14,
   "metadata": {},
   "outputs": [],
   "source": [
    "#Top Spenders"
   ]
  },
  {
   "cell_type": "code",
   "execution_count": 36,
   "metadata": {},
   "outputs": [
    {
     "data": {
      "text/plain": [
       "<bound method DataFrame.max of                  Purchase ID  Age  Gender  Item ID  Item Name  Price\n",
       "SN                                                                  \n",
       "Adairialis76               1    1       1        1          1      1\n",
       "Adastirin33                1    1       1        1          1      1\n",
       "Aeda94                     1    1       1        1          1      1\n",
       "Aela59                     1    1       1        1          1      1\n",
       "Aelaria33                  1    1       1        1          1      1\n",
       "Aelastirin39               2    2       2        2          2      2\n",
       "Aelidru27                  1    1       1        1          1      1\n",
       "Aelin32                    3    3       3        3          3      3\n",
       "Aelly27                    2    2       2        2          2      2\n",
       "Aellynun67                 1    1       1        1          1      1\n",
       "Aellyria80                 1    1       1        1          1      1\n",
       "Aelollo59                  2    2       2        2          2      2\n",
       "Aenarap34                  1    1       1        1          1      1\n",
       "Aeral43                    1    1       1        1          1      1\n",
       "Aeral68                    1    1       1        1          1      1\n",
       "Aeral97                    1    1       1        1          1      1\n",
       "Aeralria27                 1    1       1        1          1      1\n",
       "Aeralstical35              1    1       1        1          1      1\n",
       "Aeri84                     1    1       1        1          1      1\n",
       "Aerillorin70               1    1       1        1          1      1\n",
       "Aerithllora36              2    2       2        2          2      2\n",
       "Aerithnucal56              1    1       1        1          1      1\n",
       "Aerithnuphos61             1    1       1        1          1      1\n",
       "Aerithriaphos45            1    1       1        1          1      1\n",
       "Aerithriaphos46            1    1       1        1          1      1\n",
       "Aesri53                    1    1       1        1          1      1\n",
       "Aesty53                    2    2       2        2          2      2\n",
       "Aestysu37                  2    2       2        2          2      2\n",
       "Aesur96                    1    1       1        1          1      1\n",
       "Aesurstilis64              1    1       1        1          1      1\n",
       "...                      ...  ...     ...      ...        ...    ...\n",
       "Undosia27                  1    1       1        1          1      1\n",
       "Undosian34                 2    2       2        2          2      2\n",
       "Undotesta33                1    1       1        1          1      1\n",
       "Wailin72                   1    1       1        1          1      1\n",
       "Yadacal26                  2    2       2        2          2      2\n",
       "Yadaisuir65                1    1       1        1          1      1\n",
       "Yadam35                    1    1       1        1          1      1\n",
       "Yadanu52                   1    1       1        1          1      1\n",
       "Yadaphos40                 2    2       2        2          2      2\n",
       "Yalae81                    2    2       2        2          2      2\n",
       "Yalaeria91                 1    1       1        1          1      1\n",
       "Yaliru88                   1    1       1        1          1      1\n",
       "Yalo85                     1    1       1        1          1      1\n",
       "Yalostiphos68              1    1       1        1          1      1\n",
       "Yana46                     1    1       1        1          1      1\n",
       "Yarithllodeu72             1    1       1        1          1      1\n",
       "Yarithrgue83               1    1       1        1          1      1\n",
       "Yarithrin84                1    1       1        1          1      1\n",
       "Yarithsurgue62             1    1       1        1          1      1\n",
       "Yarolwen77                 1    1       1        1          1      1\n",
       "Yasrisu92                  1    1       1        1          1      1\n",
       "Yastyriaphos75             1    1       1        1          1      1\n",
       "Yasur35                    1    1       1        1          1      1\n",
       "Yasur85                    1    1       1        1          1      1\n",
       "Yathecal72                 1    1       1        1          1      1\n",
       "Yathecal82                 3    3       3        3          3      3\n",
       "Yathedeu43                 2    2       2        2          2      2\n",
       "Yoishirrala98              1    1       1        1          1      1\n",
       "Zhisrisu83                 2    2       2        2          2      2\n",
       "Zontibe81                  3    3       3        3          3      3\n",
       "\n",
       "[576 rows x 6 columns]>"
      ]
     },
     "execution_count": 36,
     "metadata": {},
     "output_type": "execute_result"
    }
   ],
   "source": [
    "Count_Spending = purchase_data.groupby('SN').count()\n",
    "Count_Spending.max"
   ]
  },
  {
   "cell_type": "code",
   "execution_count": null,
   "metadata": {},
   "outputs": [],
   "source": []
  },
  {
   "cell_type": "code",
   "execution_count": null,
   "metadata": {},
   "outputs": [],
   "source": []
  }
 ],
 "metadata": {
  "kernelspec": {
   "display_name": "Python 3",
   "language": "python",
   "name": "python3"
  },
  "language_info": {
   "codemirror_mode": {
    "name": "ipython",
    "version": 3
   },
   "file_extension": ".py",
   "mimetype": "text/x-python",
   "name": "python",
   "nbconvert_exporter": "python",
   "pygments_lexer": "ipython3",
   "version": "3.7.3"
  }
 },
 "nbformat": 4,
 "nbformat_minor": 2
}
